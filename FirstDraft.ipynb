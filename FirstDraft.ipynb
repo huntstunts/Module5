{
 "cells": [
  {
   "cell_type": "code",
   "execution_count": 1,
   "id": "64d1fcc4-e8af-4799-a559-666ac47d1e4d",
   "metadata": {
    "tags": []
   },
   "outputs": [],
   "source": [
    "import os\n",
    "import requests\n",
    "import pandas as pd\n",
    "from dotenv import load_dotenv\n",
    "import alpaca_trade_api as tradeapi\n",
    "from MCForecastTools import MCSimulation\n",
    "\n",
    "%matplotlib inline"
   ]
  },
  {
   "cell_type": "code",
   "execution_count": 2,
   "id": "c7687cc6-58e3-4d64-948d-ac258c4f4b0c",
   "metadata": {},
   "outputs": [
    {
     "data": {
      "text/plain": [
       "True"
      ]
     },
     "execution_count": 2,
     "metadata": {},
     "output_type": "execute_result"
    }
   ],
   "source": [
    "load_dotenv('example2.env')"
   ]
  },
  {
   "cell_type": "code",
   "execution_count": 3,
   "id": "0ec9bd25-2f0b-4e46-8512-9eb807063e87",
   "metadata": {},
   "outputs": [],
   "source": [
    "#Set current amount of crypto assets\n",
    "my_btc=1.2\n",
    "my_eth=5.3"
   ]
  },
  {
   "cell_type": "code",
   "execution_count": 4,
   "id": "24ec3b81-63d6-4ede-b3a7-b0912139391e",
   "metadata": {
    "tags": []
   },
   "outputs": [],
   "source": [
    "btc_url=\"https://api.alternative.me/v2/ticker/Bitcoin/?convert=USD\"\n",
    "eth_url=\"https://api.alternative.me/v2/ticker/Ethereum/?convert=USD\""
   ]
  },
  {
   "cell_type": "code",
   "execution_count": 5,
   "id": "fe4d3d1b-9a08-45a7-b6a0-a7d51254048a",
   "metadata": {},
   "outputs": [
    {
     "name": "stdout",
     "output_type": "stream",
     "text": [
      "The current value of your 1.2 BTC is $29879.00\n",
      "The current value of your 5.3 ETH is $1622.07\n"
     ]
    }
   ],
   "source": [
    "# Fetch current BTC price\n",
    "# YOUR CODE HERE!\n",
    "btc_response = requests.get(btc_url).json()\n",
    "btc_price = btc_response['data']['1']['quotes']['USD']['price']\n",
    "\n",
    "# Fetch current ETH price\n",
    "# YOUR CODE HERE!\n",
    "eth_response=requests.get(eth_url).json()\n",
    "eth_price=eth_response['data']['1027']['quotes']['USD']['price']\n",
    "\n",
    "# Compute current value of my crypto\n",
    "# YOUR CODE HERE!\n",
    "my_btc_value=btc_price\n",
    "my_eth_value=eth_price\n",
    "\n",
    "# Print current crypto wallet balance\n",
    "print(f\"The current value of your {my_btc} BTC is ${my_btc_value:0.2f}\")\n",
    "print(f\"The current value of your {my_eth} ETH is ${my_eth_value:0.2f}\")"
   ]
  },
  {
   "cell_type": "code",
   "execution_count": 6,
   "id": "50bc94fc-6713-4a47-8f82-337b44954f27",
   "metadata": {},
   "outputs": [],
   "source": [
    "# Set current amount of shares\n",
    "my_agg = 200\n",
    "my_spy = 50"
   ]
  },
  {
   "cell_type": "code",
   "execution_count": 7,
   "id": "b7718fab-9153-481f-bd79-64fe687f1233",
   "metadata": {},
   "outputs": [],
   "source": [
    "#Set alpaca api key and secret\n",
    "#YOUR CODE HERE\n",
    "alpaca_api_key = os.getenv(\"ALPACA_API_KEY\")\n",
    "alpaca_secret_key = os.getenv(\"ALPACA_SECRET_KEY\")\n",
    "#Create the alpaca API object\n",
    "#YOUR CODE HERE\n",
    "\n",
    "api = tradeapi.REST(\n",
    "    alpaca_api_key,\n",
    "    alpaca_secret_key,\n",
    "    api_version=\"v2\"\n",
    ")"
   ]
  },
  {
   "cell_type": "code",
   "execution_count": 15,
   "id": "60c085bb-b581-4bf0-8088-135df8840fd8",
   "metadata": {},
   "outputs": [
    {
     "ename": "HTTPError",
     "evalue": "400 Client Error: Bad Request for url: https://data.alpaca.markets/v2/stocks/bars?timeframe=1Day&adjustment=raw&start=2023-10-14T00%3A00%3A00&end=2023-10-14T00%3A00%3A00&symbols=AGG%2CSPY",
     "output_type": "error",
     "traceback": [
      "\u001b[1;31m---------------------------------------------------------------------------\u001b[0m",
      "\u001b[1;31mHTTPError\u001b[0m                                 Traceback (most recent call last)",
      "Cell \u001b[1;32mIn[15], line 14\u001b[0m\n\u001b[0;32m     10\u001b[0m timeframe\u001b[38;5;241m=\u001b[39m\u001b[38;5;124m\"\u001b[39m\u001b[38;5;124m1Day\u001b[39m\u001b[38;5;124m\"\u001b[39m\n\u001b[0;32m     12\u001b[0m \u001b[38;5;66;03m#Get current closing prices for SPY and AGG\u001b[39;00m\n\u001b[0;32m     13\u001b[0m \u001b[38;5;66;03m#YOUR CODE HERE\u001b[39;00m\n\u001b[1;32m---> 14\u001b[0m df_variable \u001b[38;5;241m=\u001b[39m api\u001b[38;5;241m.\u001b[39mget_bars(\n\u001b[0;32m     15\u001b[0m    tickers,\n\u001b[0;32m     16\u001b[0m    timeframe,\n\u001b[0;32m     17\u001b[0m    start\u001b[38;5;241m=\u001b[39mstart_date,\n\u001b[0;32m     18\u001b[0m    end\u001b[38;5;241m=\u001b[39mend_date\n\u001b[0;32m     19\u001b[0m )\n\u001b[0;32m     20\u001b[0m agg_price\u001b[38;5;241m=\u001b[39m\u001b[38;5;28mfloat\u001b[39m(df_portfolio[\u001b[38;5;124m\"\u001b[39m\u001b[38;5;124mAGG\u001b[39m\u001b[38;5;124m\"\u001b[39m][\u001b[38;5;124m\"\u001b[39m\u001b[38;5;124mclose\u001b[39m\u001b[38;5;124m\"\u001b[39m])\n\u001b[0;32m     21\u001b[0m spy_price\u001b[38;5;241m=\u001b[39m\u001b[38;5;28mfloat\u001b[39m(df_portfolio[\u001b[38;5;124m\"\u001b[39m\u001b[38;5;124mSPY\u001b[39m\u001b[38;5;124m\"\u001b[39m][\u001b[38;5;124m\"\u001b[39m\u001b[38;5;124mclose\u001b[39m\u001b[38;5;124m\"\u001b[39m])\n",
      "File \u001b[1;32m~\\anaconda3\\anaconda\\Lib\\site-packages\\alpaca_trade_api\\rest.py:718\u001b[0m, in \u001b[0;36mREST.get_bars\u001b[1;34m(self, symbol, timeframe, start, end, adjustment, limit, feed, asof)\u001b[0m\n\u001b[0;32m    708\u001b[0m \u001b[38;5;28;01mdef\u001b[39;00m \u001b[38;5;21mget_bars\u001b[39m(\u001b[38;5;28mself\u001b[39m,\n\u001b[0;32m    709\u001b[0m              symbol: Union[\u001b[38;5;28mstr\u001b[39m, List[\u001b[38;5;28mstr\u001b[39m]],\n\u001b[0;32m    710\u001b[0m              timeframe: TimeFrame,\n\u001b[1;32m   (...)\u001b[0m\n\u001b[0;32m    716\u001b[0m              asof: Optional[\u001b[38;5;28mstr\u001b[39m] \u001b[38;5;241m=\u001b[39m \u001b[38;5;28;01mNone\u001b[39;00m,\n\u001b[0;32m    717\u001b[0m              ) \u001b[38;5;241m-\u001b[39m\u001b[38;5;241m>\u001b[39m BarsV2:\n\u001b[1;32m--> 718\u001b[0m     bars \u001b[38;5;241m=\u001b[39m \u001b[38;5;28mlist\u001b[39m(\u001b[38;5;28mself\u001b[39m\u001b[38;5;241m.\u001b[39mget_bars_iter(symbol,\n\u001b[0;32m    719\u001b[0m                                    timeframe,\n\u001b[0;32m    720\u001b[0m                                    start,\n\u001b[0;32m    721\u001b[0m                                    end,\n\u001b[0;32m    722\u001b[0m                                    adjustment,\n\u001b[0;32m    723\u001b[0m                                    limit,\n\u001b[0;32m    724\u001b[0m                                    feed\u001b[38;5;241m=\u001b[39mfeed,\n\u001b[0;32m    725\u001b[0m                                    asof\u001b[38;5;241m=\u001b[39masof,\n\u001b[0;32m    726\u001b[0m                                    raw\u001b[38;5;241m=\u001b[39m\u001b[38;5;28;01mTrue\u001b[39;00m))\n\u001b[0;32m    727\u001b[0m     \u001b[38;5;28;01mreturn\u001b[39;00m BarsV2(bars)\n",
      "File \u001b[1;32m~\\anaconda3\\anaconda\\Lib\\site-packages\\alpaca_trade_api\\rest.py:702\u001b[0m, in \u001b[0;36mREST.get_bars_iter\u001b[1;34m(self, symbol, timeframe, start, end, adjustment, limit, feed, asof, raw)\u001b[0m\n\u001b[0;32m    684\u001b[0m \u001b[38;5;28;01mdef\u001b[39;00m \u001b[38;5;21mget_bars_iter\u001b[39m(\u001b[38;5;28mself\u001b[39m,\n\u001b[0;32m    685\u001b[0m                   symbol: Union[\u001b[38;5;28mstr\u001b[39m, List[\u001b[38;5;28mstr\u001b[39m]],\n\u001b[0;32m    686\u001b[0m                   timeframe: TimeFrame,\n\u001b[1;32m   (...)\u001b[0m\n\u001b[0;32m    692\u001b[0m                   asof: Optional[\u001b[38;5;28mstr\u001b[39m] \u001b[38;5;241m=\u001b[39m \u001b[38;5;28;01mNone\u001b[39;00m,\n\u001b[0;32m    693\u001b[0m                   raw\u001b[38;5;241m=\u001b[39m\u001b[38;5;28;01mFalse\u001b[39;00m) \u001b[38;5;241m-\u001b[39m\u001b[38;5;241m>\u001b[39m BarIterator:\n\u001b[0;32m    694\u001b[0m     bars \u001b[38;5;241m=\u001b[39m \u001b[38;5;28mself\u001b[39m\u001b[38;5;241m.\u001b[39m_data_get(\u001b[38;5;124m'\u001b[39m\u001b[38;5;124mbars\u001b[39m\u001b[38;5;124m'\u001b[39m, symbol,\n\u001b[0;32m    695\u001b[0m                           timeframe\u001b[38;5;241m=\u001b[39mtimeframe,\n\u001b[0;32m    696\u001b[0m                           adjustment\u001b[38;5;241m=\u001b[39madjustment,\n\u001b[1;32m   (...)\u001b[0m\n\u001b[0;32m    700\u001b[0m                           feed\u001b[38;5;241m=\u001b[39mfeed,\n\u001b[0;32m    701\u001b[0m                           asof\u001b[38;5;241m=\u001b[39masof)\n\u001b[1;32m--> 702\u001b[0m     \u001b[38;5;28;01mfor\u001b[39;00m bar \u001b[38;5;129;01min\u001b[39;00m bars:\n\u001b[0;32m    703\u001b[0m         \u001b[38;5;28;01mif\u001b[39;00m raw:\n\u001b[0;32m    704\u001b[0m             \u001b[38;5;28;01myield\u001b[39;00m bar\n",
      "File \u001b[1;32m~\\anaconda3\\anaconda\\Lib\\site-packages\\alpaca_trade_api\\rest.py:589\u001b[0m, in \u001b[0;36mREST._data_get\u001b[1;34m(self, endpoint, symbol_or_symbols, api_version, endpoint_base, resp_grouped_by_symbol, page_limit, feed, asof, loc, **kwargs)\u001b[0m\n\u001b[0;32m    587\u001b[0m \u001b[38;5;28;01mif\u001b[39;00m endpoint:\n\u001b[0;32m    588\u001b[0m     path \u001b[38;5;241m+\u001b[39m\u001b[38;5;241m=\u001b[39m \u001b[38;5;124mf\u001b[39m\u001b[38;5;124m'\u001b[39m\u001b[38;5;124m/\u001b[39m\u001b[38;5;132;01m{\u001b[39;00mendpoint\u001b[38;5;132;01m}\u001b[39;00m\u001b[38;5;124m'\u001b[39m\n\u001b[1;32m--> 589\u001b[0m resp \u001b[38;5;241m=\u001b[39m \u001b[38;5;28mself\u001b[39m\u001b[38;5;241m.\u001b[39mdata_get(path, data\u001b[38;5;241m=\u001b[39mdata, feed\u001b[38;5;241m=\u001b[39mfeed,\n\u001b[0;32m    590\u001b[0m                      api_version\u001b[38;5;241m=\u001b[39mapi_version)\n\u001b[0;32m    591\u001b[0m \u001b[38;5;28;01mif\u001b[39;00m \u001b[38;5;129;01mnot\u001b[39;00m resp_grouped_by_symbol:\n\u001b[0;32m    592\u001b[0m     k \u001b[38;5;241m=\u001b[39m endpoint \u001b[38;5;129;01mor\u001b[39;00m endpoint_base\n",
      "File \u001b[1;32m~\\anaconda3\\anaconda\\Lib\\site-packages\\alpaca_trade_api\\rest.py:270\u001b[0m, in \u001b[0;36mREST.data_get\u001b[1;34m(self, path, data, feed, api_version)\u001b[0m\n\u001b[0;32m    268\u001b[0m     data \u001b[38;5;241m=\u001b[39m data \u001b[38;5;129;01mor\u001b[39;00m {}\n\u001b[0;32m    269\u001b[0m     data[\u001b[38;5;124m'\u001b[39m\u001b[38;5;124mfeed\u001b[39m\u001b[38;5;124m'\u001b[39m] \u001b[38;5;241m=\u001b[39m feed\n\u001b[1;32m--> 270\u001b[0m \u001b[38;5;28;01mreturn\u001b[39;00m \u001b[38;5;28mself\u001b[39m\u001b[38;5;241m.\u001b[39m_request(\n\u001b[0;32m    271\u001b[0m     \u001b[38;5;124m'\u001b[39m\u001b[38;5;124mGET\u001b[39m\u001b[38;5;124m'\u001b[39m, path, data, base_url\u001b[38;5;241m=\u001b[39mbase_url, api_version\u001b[38;5;241m=\u001b[39mapi_version,\n\u001b[0;32m    272\u001b[0m )\n",
      "File \u001b[1;32m~\\anaconda3\\anaconda\\Lib\\site-packages\\alpaca_trade_api\\rest.py:213\u001b[0m, in \u001b[0;36mREST._request\u001b[1;34m(self, method, path, data, base_url, api_version)\u001b[0m\n\u001b[0;32m    211\u001b[0m \u001b[38;5;28;01mwhile\u001b[39;00m retry \u001b[38;5;241m>\u001b[39m\u001b[38;5;241m=\u001b[39m \u001b[38;5;241m0\u001b[39m:\n\u001b[0;32m    212\u001b[0m     \u001b[38;5;28;01mtry\u001b[39;00m:\n\u001b[1;32m--> 213\u001b[0m         \u001b[38;5;28;01mreturn\u001b[39;00m \u001b[38;5;28mself\u001b[39m\u001b[38;5;241m.\u001b[39m_one_request(method, url, opts, retry)\n\u001b[0;32m    214\u001b[0m     \u001b[38;5;28;01mexcept\u001b[39;00m RetryException:\n\u001b[0;32m    215\u001b[0m         retry_wait \u001b[38;5;241m=\u001b[39m \u001b[38;5;28mself\u001b[39m\u001b[38;5;241m.\u001b[39m_retry_wait\n",
      "File \u001b[1;32m~\\anaconda3\\anaconda\\Lib\\site-packages\\alpaca_trade_api\\rest.py:234\u001b[0m, in \u001b[0;36mREST._one_request\u001b[1;34m(self, method, url, opts, retry)\u001b[0m\n\u001b[0;32m    232\u001b[0m resp \u001b[38;5;241m=\u001b[39m \u001b[38;5;28mself\u001b[39m\u001b[38;5;241m.\u001b[39m_session\u001b[38;5;241m.\u001b[39mrequest(method, url, \u001b[38;5;241m*\u001b[39m\u001b[38;5;241m*\u001b[39mopts)\n\u001b[0;32m    233\u001b[0m \u001b[38;5;28;01mtry\u001b[39;00m:\n\u001b[1;32m--> 234\u001b[0m     resp\u001b[38;5;241m.\u001b[39mraise_for_status()\n\u001b[0;32m    235\u001b[0m \u001b[38;5;28;01mexcept\u001b[39;00m HTTPError \u001b[38;5;28;01mas\u001b[39;00m http_error:\n\u001b[0;32m    236\u001b[0m     \u001b[38;5;66;03m# retry if we hit Rate Limit\u001b[39;00m\n\u001b[0;32m    237\u001b[0m     \u001b[38;5;28;01mif\u001b[39;00m resp\u001b[38;5;241m.\u001b[39mstatus_code \u001b[38;5;129;01min\u001b[39;00m retry_codes \u001b[38;5;129;01mand\u001b[39;00m retry \u001b[38;5;241m>\u001b[39m \u001b[38;5;241m0\u001b[39m:\n",
      "File \u001b[1;32m~\\anaconda3\\anaconda\\Lib\\site-packages\\requests\\models.py:1021\u001b[0m, in \u001b[0;36mResponse.raise_for_status\u001b[1;34m(self)\u001b[0m\n\u001b[0;32m   1016\u001b[0m     http_error_msg \u001b[38;5;241m=\u001b[39m (\n\u001b[0;32m   1017\u001b[0m         \u001b[38;5;124mf\u001b[39m\u001b[38;5;124m\"\u001b[39m\u001b[38;5;132;01m{\u001b[39;00m\u001b[38;5;28mself\u001b[39m\u001b[38;5;241m.\u001b[39mstatus_code\u001b[38;5;132;01m}\u001b[39;00m\u001b[38;5;124m Server Error: \u001b[39m\u001b[38;5;132;01m{\u001b[39;00mreason\u001b[38;5;132;01m}\u001b[39;00m\u001b[38;5;124m for url: \u001b[39m\u001b[38;5;132;01m{\u001b[39;00m\u001b[38;5;28mself\u001b[39m\u001b[38;5;241m.\u001b[39murl\u001b[38;5;132;01m}\u001b[39;00m\u001b[38;5;124m\"\u001b[39m\n\u001b[0;32m   1018\u001b[0m     )\n\u001b[0;32m   1020\u001b[0m \u001b[38;5;28;01mif\u001b[39;00m http_error_msg:\n\u001b[1;32m-> 1021\u001b[0m     \u001b[38;5;28;01mraise\u001b[39;00m HTTPError(http_error_msg, response\u001b[38;5;241m=\u001b[39m\u001b[38;5;28mself\u001b[39m)\n",
      "\u001b[1;31mHTTPError\u001b[0m: 400 Client Error: Bad Request for url: https://data.alpaca.markets/v2/stocks/bars?timeframe=1Day&adjustment=raw&start=2023-10-14T00%3A00%3A00&end=2023-10-14T00%3A00%3A00&symbols=AGG%2CSPY"
     ]
    }
   ],
   "source": [
    " # Format current date as ISO format\n",
    "# YOUR CODE HERE!\n",
    "start_date=pd.Timestamp('10-14-2023').isoformat()\n",
    "end_date=pd.Timestamp('10-14-2023').isoformat()\n",
    "#Set the tickers\n",
    "\n",
    "tickers=[\"AGG\",\"SPY\"]\n",
    "\n",
    "#Set timeframe to \"1Day\" for Alpaca API\n",
    "timeframe=\"1Day\"\n",
    "\n",
    "#Get current closing prices for SPY and AGG\n",
    "#YOUR CODE HERE\n",
    "df_variable = api.get_bars(\n",
    "    tickers,\n",
    "    timeframe,\n",
    "    start=start_date,\n",
    "    end=end_date\n",
    ")\n",
    "agg_price=float(df_portfolio[\"AGG\"][\"close\"])\n",
    "spy_price=float(df_portfolio[\"SPY\"][\"close\"])\n",
    "\n",
    "#Reorganize the dataframe\n",
    "#Separate ticker data\n",
    "#YOUR CODE HERE\n",
    "SPY=df_portfolio[df_portfolio['symbol']=='SPY'].drop('symbol', axis=1)\n",
    "AGG=df_portfolio[df_portfolio['symbol']=='AGG'].drop('symbol', axis=1)\n",
    "\n",
    "#Concatenate the ticker dataframes\n",
    "#YOUR CODE HERE\n",
    "df_portfolio = pd.concat([AAPL, MSFT],axis=1, keys=['SPY','AGG'])\n",
    "\n",
    "#Preview DataFrame\n",
    "#YOUR CODE HERE\n",
    "df_portfolio.head()"
   ]
  },
  {
   "cell_type": "code",
   "execution_count": 35,
   "id": "bfb6c0fc-92a0-4ad9-ac8c-c375ac28d50d",
   "metadata": {},
   "outputs": [
    {
     "ename": "NameError",
     "evalue": "name 'agg_close_price' is not defined",
     "output_type": "error",
     "traceback": [
      "\u001b[1;31m---------------------------------------------------------------------------\u001b[0m",
      "\u001b[1;31mNameError\u001b[0m                                 Traceback (most recent call last)",
      "Cell \u001b[1;32mIn[35], line 4\u001b[0m\n\u001b[0;32m      1\u001b[0m \u001b[38;5;66;03m#Pick AGG and SPY close prices\u001b[39;00m\n\u001b[0;32m      2\u001b[0m \u001b[38;5;66;03m#YOUR CODE HERE\u001b[39;00m\n\u001b[1;32m----> 4\u001b[0m \u001b[38;5;28mprint\u001b[39m(\u001b[38;5;124mf\u001b[39m\u001b[38;5;124m\"\u001b[39m\u001b[38;5;124mCurrent AGG closing price: $\u001b[39m\u001b[38;5;132;01m{\u001b[39;00magg_close_price\u001b[38;5;132;01m}\u001b[39;00m\u001b[38;5;124m\"\u001b[39m)\n\u001b[0;32m      5\u001b[0m \u001b[38;5;28mprint\u001b[39m(\u001b[38;5;124mf\u001b[39m\u001b[38;5;124m\"\u001b[39m\u001b[38;5;124mCurrent SPY closing price: $\u001b[39m\u001b[38;5;132;01m{\u001b[39;00mspy_close_price\u001b[38;5;132;01m}\u001b[39;00m\u001b[38;5;124m\"\u001b[39m)\n",
      "\u001b[1;31mNameError\u001b[0m: name 'agg_close_price' is not defined"
     ]
    }
   ],
   "source": [
    "#Pick AGG and SPY close prices\n",
    "#YOUR CODE HERE\n",
    "\n",
    "print(f\"Current AGG closing price: ${agg_close_price}\")\n",
    "print(f\"Current SPY closing price: ${spy_close_price}\")"
   ]
  },
  {
   "cell_type": "code",
   "execution_count": null,
   "id": "bd956b0c-2bdb-4a30-b805-edc6e71d2549",
   "metadata": {},
   "outputs": [],
   "source": [
    "#Compute the current value of shares\n",
    "#YOUR CODE HERE\n",
    "\n",
    "print(f\"The current value of your {my_spy} SPY shares is ${my_spy_value:0.2f}\")\n",
    "print(f\"The current value of your {my_agg} AGG shares is ${my_agg_value:0.2f}\")"
   ]
  },
  {
   "cell_type": "code",
   "execution_count": null,
   "id": "b51d28d8-e1bb-44e8-9fd6-dd15b48fa361",
   "metadata": {},
   "outputs": [],
   "source": [
    "#Set monthly household income\n",
    "#YOUR CODE HERE\n",
    "monthly_income=12000\n",
    "#Consolidate financial assets data\n",
    "#YOUR CODE HERE\n",
    "\n",
    "#Create savings DataFrame\n",
    "#YOUR CODE HERE\n",
    "df_savings=pd.DataFrame()\n",
    "#Display savings DataFrame\n",
    "display(df_savings)"
   ]
  },
  {
   "cell_type": "code",
   "execution_count": null,
   "id": "92d61cce-0627-4fa9-8c5d-6072de579291",
   "metadata": {},
   "outputs": [],
   "source": [
    "#Plot savings pie chart\n",
    "#YOUR CODE HERE"
   ]
  },
  {
   "cell_type": "code",
   "execution_count": null,
   "id": "cfe44696-c9c8-44ac-bcd2-d3912c32ff23",
   "metadata": {},
   "outputs": [],
   "source": [
    "#Set ideal emergency fund\n",
    "emergency_fund=monthly_income*3\n",
    "\n",
    "#Calculate total amount of savings\n",
    "#YOUR CODE HERE\n",
    "\n",
    "#Validate savings health\n",
    "#YOUR CODE HERE\n"
   ]
  },
  {
   "cell_type": "code",
   "execution_count": null,
   "id": "f70a45bf-8c03-4f10-85a7-22d4ce896b26",
   "metadata": {},
   "outputs": [],
   "source": [
    "#Part 2: Retirement Planning\n",
    "#Monte Carlo simulation"
   ]
  },
  {
   "cell_type": "code",
   "execution_count": null,
   "id": "95d1c757-59e9-4717-90b7-77a96291cd31",
   "metadata": {},
   "outputs": [],
   "source": [
    "#Set start and end dates of five years back from today\n",
    "#Sample results may vary from the solution based on the time frame chosen\n",
    "start_date = pd.Timestamp('2016-05-01', tz='America/New_York').isoformat()\n",
    "end_date = pd.Timestamp('2021-05-01', tz='America/New_York').isoformat()"
   ]
  },
  {
   "cell_type": "code",
   "execution_count": null,
   "id": "9bf50619-dd29-439a-841a-f908fdb049ad",
   "metadata": {},
   "outputs": [],
   "source": [
    "# Get 5 years' worth of historical data for SPY and AGG\n",
    "# YOUR CODE HERE!\n",
    "\n",
    "# Reorganize the DataFrame\n",
    "# Separate ticker data\n",
    "# YOUR CODE HERE!\n",
    "\n",
    "\n",
    "# Concatenate the ticker DataFrames\n",
    "# YOUR CODE HERE!\n",
    "\n",
    "# Display sample data\n",
    "df_stock_data.head() "
   ]
  },
  {
   "cell_type": "code",
   "execution_count": null,
   "id": "7ee4726f-4e62-45a7-bddb-e51966563c60",
   "metadata": {},
   "outputs": [],
   "source": [
    "\n",
    "# Configuring a Monte Carlo simulation to forecast 30 years cumulative returns\n",
    "# YOUR CODE HERE! "
   ]
  },
  {
   "cell_type": "code",
   "execution_count": null,
   "id": "c81138ad-189d-4b68-9624-262451564c46",
   "metadata": {},
   "outputs": [],
   "source": [
    "# Printing the simulation input data\n",
    "# YOUR CODE HERE! "
   ]
  },
  {
   "cell_type": "code",
   "execution_count": null,
   "id": "c5b97c2e-5447-4a1d-916c-1e60078b526a",
   "metadata": {},
   "outputs": [],
   "source": [
    "# Running a Monte Carlo simulation to forecast 30 years cumulative returns\n",
    "# YOUR CODE HERE!"
   ]
  },
  {
   "cell_type": "code",
   "execution_count": null,
   "id": "99cbe262-b9f8-4750-ab7e-5dc1c33cb900",
   "metadata": {},
   "outputs": [],
   "source": [
    "# Plot simulation outcomes\n",
    "# YOUR CODE HERE!"
   ]
  },
  {
   "cell_type": "code",
   "execution_count": null,
   "id": "676ac29d-eb62-47d7-af0e-f92aa9268389",
   "metadata": {},
   "outputs": [],
   "source": [
    "# Plot probability distribution and confidence intervals\n",
    "# YOUR CODE HERE!\n"
   ]
  },
  {
   "cell_type": "code",
   "execution_count": null,
   "id": "ad78e84a-f590-4fe0-9cf1-9eee19539bb0",
   "metadata": {},
   "outputs": [],
   "source": [
    " # Fetch summary statistics from the Monte Carlo simulation results\n",
    "# YOUR CODE HERE!\n",
    "\n",
    "# Print summary statistics\n",
    "# YOUR CODE HERE"
   ]
  },
  {
   "cell_type": "code",
   "execution_count": null,
   "id": "4af8ecd9-5d5e-402c-a528-d668a046188b",
   "metadata": {},
   "outputs": [],
   "source": [
    "# Set initial investment\n",
    "initial_investment = 20000\n",
    "\n",
    "# Use the lower and upper `95%` confidence intervals to calculate the range of the possible outcomes of our $20,000\n",
    "# YOUR CODE HERE!\n",
    "\n",
    "# Print results\n",
    "print(f\"There is a 95% chance that an initial investment of ${initial_investment} in the portfolio\"\n",
    "      f\" over the next 30 years will end within in the range of\"\n",
    "      f\" ${ci_lower} and ${ci_upper}\")"
   ]
  },
  {
   "cell_type": "code",
   "execution_count": null,
   "id": "164839cc-06bc-40ba-b032-81b740e8b8dd",
   "metadata": {},
   "outputs": [],
   "source": [
    "# Set initial investment\n",
    "initial_investment = 20000 * 1.5\n",
    "\n",
    "# Use the lower and upper `95%` confidence intervals to calculate the range of the possible outcomes of our $30,000\n",
    "# YOUR CODE HERE!\n",
    "ci_lower=\n",
    "ci_upper=\n",
    "# Print results\n",
    "print(f\"There is a 95% chance that an initial investment of ${initial_investment} in the portfolio\"\n",
    "      f\" over the next 30 years will end within in the range of\"\n",
    "      f\" ${ci_lower} and ${ci_upper}\")"
   ]
  },
  {
   "cell_type": "code",
   "execution_count": null,
   "id": "f3dd71bf-e1a2-4ffa-b48d-dcfcae65ad87",
   "metadata": {},
   "outputs": [],
   "source": [
    "\n",
    "# Configuring a Monte Carlo simulation to forecast 5 years cumulative returns\n",
    "# YOUR CODE HERE!"
   ]
  },
  {
   "cell_type": "code",
   "execution_count": null,
   "id": "30764e8e-cb4f-416e-ad86-77e80650f396",
   "metadata": {},
   "outputs": [],
   "source": [
    "# Running a Monte Carlo simulation to forecast 5 years cumulative returns\n",
    "# YOUR CODE HERE!\n"
   ]
  },
  {
   "cell_type": "code",
   "execution_count": null,
   "id": "ad1176e8-90d7-474f-a42d-44db4e3e287e",
   "metadata": {},
   "outputs": [],
   "source": [
    " # Plot simulation outcomes\n",
    "# YOUR CODE HERE!"
   ]
  },
  {
   "cell_type": "code",
   "execution_count": null,
   "id": "107cf571-6304-45d2-9198-ff38edfae957",
   "metadata": {},
   "outputs": [],
   "source": [
    "# Plot probability distribution and confidence intervals\n",
    "# YOUR CODE HERE! "
   ]
  },
  {
   "cell_type": "code",
   "execution_count": null,
   "id": "46de134a-f464-4bf1-9203-b24907dd68fa",
   "metadata": {},
   "outputs": [],
   "source": [
    "# Fetch summary statistics from the Monte Carlo simulation results\n",
    "# YOUR CODE HERE!\n",
    "\n",
    "# Print summary statistics\n",
    "# YOUR CODE HERE!"
   ]
  },
  {
   "cell_type": "code",
   "execution_count": null,
   "id": "05e50d95-9d2b-413a-bdf1-bae15cd0d884",
   "metadata": {},
   "outputs": [],
   "source": [
    "# Set initial investment\n",
    "initial_investment=10000\n",
    "\n",
    "# Use the lower and upper `95%` confidence intervals to calculate the range of the possible outcomes of our $60,000\n",
    "# YOUR CODE HERE!\n",
    "\n",
    "# Print results\n",
    "print(f\"There is a 95% chance that an initial investment of ${initial_investment} in the portfolio\"\n",
    "      f\" over the next 5 years will end within in the range of\"\n",
    "      f\" ${ci_lower_five} and ${ci_upper_five}\")"
   ]
  },
  {
   "cell_type": "code",
   "execution_count": null,
   "id": "00fd056f-479a-4f80-b8d2-6ace8e3b9b5a",
   "metadata": {},
   "outputs": [],
   "source": [
    "\n",
    "# Configuring a Monte Carlo simulation to forecast 10 years cumulative returns\n",
    "# YOUR CODE HERE!"
   ]
  },
  {
   "cell_type": "code",
   "execution_count": null,
   "id": "a2aa85bc-0438-463b-9463-9d70b931858c",
   "metadata": {},
   "outputs": [],
   "source": [
    "# Running a Monte Carlo simulation to forecast 10 years cumulative returns\n",
    "# YOUR CODE HERE!"
   ]
  },
  {
   "cell_type": "code",
   "execution_count": null,
   "id": "18a4e7c5-2e67-4bff-af3a-44814805cbed",
   "metadata": {},
   "outputs": [],
   "source": [
    " # Plot simulation outcomes\n",
    "# YOUR CODE HERE!"
   ]
  },
  {
   "cell_type": "code",
   "execution_count": null,
   "id": "a1259c48-68c8-4db0-95e3-0f046f58305d",
   "metadata": {},
   "outputs": [],
   "source": [
    "# Plot probability distribution and confidence intervals\n",
    "# YOUR CODE HERE!"
   ]
  },
  {
   "cell_type": "code",
   "execution_count": null,
   "id": "0cf56247-e714-4f05-a39e-aba9013058b8",
   "metadata": {},
   "outputs": [],
   "source": [
    " # Fetch summary statistics from the Monte Carlo simulation results\n",
    "# YOUR CODE HERE!\n",
    "\n",
    "# Print summary statistics\n",
    "# YOUR CODE HERE!"
   ]
  },
  {
   "cell_type": "code",
   "execution_count": null,
   "id": "99377115-ab9a-4172-947b-7e19500883fa",
   "metadata": {},
   "outputs": [],
   "source": [
    "# Set initial investment\n",
    "# YOUR CODE HERE!\n",
    "\n",
    "# Use the lower and upper `95%` confidence intervals to calculate the range of the possible outcomes of our $60,000\n",
    "# YOUR CODE HERE!\n",
    "\n",
    "# Print results\n",
    "print(f\"There is a 95% chance that an initial investment of ${initial_investment} in the portfolio\"\n",
    "      f\" over the next 10 years will end within in the range of\"\n",
    "      f\" ${ci_lower_ten} and ${ci_upper_ten}\")"
   ]
  }
 ],
 "metadata": {
  "kernelspec": {
   "display_name": "Python 3 (ipykernel)",
   "language": "python",
   "name": "python3"
  },
  "language_info": {
   "codemirror_mode": {
    "name": "ipython",
    "version": 3
   },
   "file_extension": ".py",
   "mimetype": "text/x-python",
   "name": "python",
   "nbconvert_exporter": "python",
   "pygments_lexer": "ipython3",
   "version": "3.11.4"
  }
 },
 "nbformat": 4,
 "nbformat_minor": 5
}
