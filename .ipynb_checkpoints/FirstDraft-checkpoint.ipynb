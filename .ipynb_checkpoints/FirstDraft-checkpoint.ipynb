{
 "cells": [
  {
   "cell_type": "code",
   "execution_count": 2,
   "id": "64d1fcc4-e8af-4799-a559-666ac47d1e4d",
   "metadata": {
    "tags": []
   },
   "outputs": [],
   "source": [
    "import os\n",
    "import requests\n",
    "import pandas as pd\n",
    "from dotenv import load_dotenv\n",
    "import alpaca_trade_api as tradeapi\n",
    "from MCForecastTools import MCSimulation\n",
    "\n",
    "%matplotlib inline"
   ]
  },
  {
   "cell_type": "code",
   "execution_count": 3,
   "id": "c7687cc6-58e3-4d64-948d-ac258c4f4b0c",
   "metadata": {},
   "outputs": [
    {
     "data": {
      "text/plain": [
       "True"
      ]
     },
     "execution_count": 3,
     "metadata": {},
     "output_type": "execute_result"
    }
   ],
   "source": [
    "load_dotenv('example2.env')"
   ]
  },
  {
   "cell_type": "code",
   "execution_count": 4,
   "id": "0ec9bd25-2f0b-4e46-8512-9eb807063e87",
   "metadata": {},
   "outputs": [],
   "source": [
    "#Set current amount of crypto assets\n",
    "my_btc=1.2\n",
    "my_eth=5.3"
   ]
  },
  {
   "cell_type": "code",
   "execution_count": 5,
   "id": "24ec3b81-63d6-4ede-b3a7-b0912139391e",
   "metadata": {
    "tags": []
   },
   "outputs": [],
   "source": [
    "btc_url=\"https://api.alternative.me/v2/ticker/Bitcoin/?convert=USD\"\n",
    "eth_url=\"https://api.alternative.me/v2/ticker/Ethereum/?convert=USD\""
   ]
  },
  {
   "cell_type": "code",
   "execution_count": 19,
   "id": "fe4d3d1b-9a08-45a7-b6a0-a7d51254048a",
   "metadata": {},
   "outputs": [
    {
     "name": "stdout",
     "output_type": "stream",
     "text": [
      "The current value of your 1.2 BTC is $30104.00\n",
      "The current value of your 5.3 ETH is $1638.97\n"
     ]
    }
   ],
   "source": [
    "# Fetch current BTC price\n",
    "# YOUR CODE HERE!\n",
    "btc_response = requests.get(btc_url).json()\n",
    "btc_price = btc_response['data']['1']['quotes']['USD']['price']\n",
    "\n",
    "# Fetch current ETH price\n",
    "# YOUR CODE HERE!\n",
    "eth_response=requests.get(eth_url).json()\n",
    "eth_price=eth_response['data']['1027']['quotes']['USD']['price']\n",
    "\n",
    "# Compute current value of my crypto\n",
    "# YOUR CODE HERE!\n",
    "my_btc_value=btc_price\n",
    "my_eth_value=eth_price\n",
    "\n",
    "# Print current crypto wallet balance\n",
    "print(f\"The current value of your {my_btc} BTC is ${my_btc_value:0.2f}\")\n",
    "print(f\"The current value of your {my_eth} ETH is ${my_eth_value:0.2f}\")"
   ]
  },
  {
   "cell_type": "code",
   "execution_count": 7,
   "id": "50bc94fc-6713-4a47-8f82-337b44954f27",
   "metadata": {},
   "outputs": [],
   "source": [
    "# Set current amount of shares\n",
    "my_agg = 200\n",
    "my_spy = 50"
   ]
  },
  {
   "cell_type": "code",
   "execution_count": 8,
   "id": "b7718fab-9153-481f-bd79-64fe687f1233",
   "metadata": {},
   "outputs": [],
   "source": [
    "#Set alpaca api key and secret\n",
    "alpaca_api_key = os.getenv(\"ALPACA_API_KEY\")\n",
    "alpaca_secret_key = os.getenv(\"ALPACA_SECRET_KEY\")\n",
    "#Create the alpaca API object\n",
    "\n",
    "api = tradeapi.REST(\n",
    "    alpaca_api_key,\n",
    "    alpaca_secret_key,\n",
    "    api_version=\"v2\"\n",
    ")"
   ]
  },
  {
   "cell_type": "code",
   "execution_count": 16,
   "id": "60c085bb-b581-4bf0-8088-135df8840fd8",
   "metadata": {},
   "outputs": [
    {
     "data": {
      "text/html": [
       "<div>\n",
       "<style scoped>\n",
       "    .dataframe tbody tr th:only-of-type {\n",
       "        vertical-align: middle;\n",
       "    }\n",
       "\n",
       "    .dataframe tbody tr th {\n",
       "        vertical-align: top;\n",
       "    }\n",
       "\n",
       "    .dataframe thead tr th {\n",
       "        text-align: left;\n",
       "    }\n",
       "\n",
       "    .dataframe thead tr:last-of-type th {\n",
       "        text-align: right;\n",
       "    }\n",
       "</style>\n",
       "<table border=\"1\" class=\"dataframe\">\n",
       "  <thead>\n",
       "    <tr>\n",
       "      <th></th>\n",
       "      <th colspan=\"7\" halign=\"left\">AGG</th>\n",
       "      <th colspan=\"7\" halign=\"left\">SPY</th>\n",
       "    </tr>\n",
       "    <tr>\n",
       "      <th></th>\n",
       "      <th>close</th>\n",
       "      <th>high</th>\n",
       "      <th>low</th>\n",
       "      <th>trade_count</th>\n",
       "      <th>open</th>\n",
       "      <th>volume</th>\n",
       "      <th>vwap</th>\n",
       "      <th>close</th>\n",
       "      <th>high</th>\n",
       "      <th>low</th>\n",
       "      <th>trade_count</th>\n",
       "      <th>open</th>\n",
       "      <th>volume</th>\n",
       "      <th>vwap</th>\n",
       "    </tr>\n",
       "    <tr>\n",
       "      <th>timestamp</th>\n",
       "      <th></th>\n",
       "      <th></th>\n",
       "      <th></th>\n",
       "      <th></th>\n",
       "      <th></th>\n",
       "      <th></th>\n",
       "      <th></th>\n",
       "      <th></th>\n",
       "      <th></th>\n",
       "      <th></th>\n",
       "      <th></th>\n",
       "      <th></th>\n",
       "      <th></th>\n",
       "      <th></th>\n",
       "    </tr>\n",
       "  </thead>\n",
       "  <tbody>\n",
       "    <tr>\n",
       "      <th>2020-05-01 04:00:00+00:00</th>\n",
       "      <td>282.83</td>\n",
       "      <td>290.6572</td>\n",
       "      <td>281.5200</td>\n",
       "      <td>639155</td>\n",
       "      <td>285.31</td>\n",
       "      <td>127002350</td>\n",
       "      <td>284.074074</td>\n",
       "      <td>116.87</td>\n",
       "      <td>117.0998</td>\n",
       "      <td>116.6775</td>\n",
       "      <td>24394</td>\n",
       "      <td>116.97</td>\n",
       "      <td>6331654</td>\n",
       "      <td>116.846992</td>\n",
       "    </tr>\n",
       "    <tr>\n",
       "      <th>2020-05-04 04:00:00+00:00</th>\n",
       "      <td>283.59</td>\n",
       "      <td>283.9000</td>\n",
       "      <td>279.1300</td>\n",
       "      <td>460683</td>\n",
       "      <td>280.74</td>\n",
       "      <td>81813464</td>\n",
       "      <td>281.785875</td>\n",
       "      <td>116.97</td>\n",
       "      <td>117.0900</td>\n",
       "      <td>116.8700</td>\n",
       "      <td>15546</td>\n",
       "      <td>116.89</td>\n",
       "      <td>3803239</td>\n",
       "      <td>116.960894</td>\n",
       "    </tr>\n",
       "    <tr>\n",
       "      <th>2020-05-05 04:00:00+00:00</th>\n",
       "      <td>286.15</td>\n",
       "      <td>289.2500</td>\n",
       "      <td>283.7134</td>\n",
       "      <td>459766</td>\n",
       "      <td>286.64</td>\n",
       "      <td>80363726</td>\n",
       "      <td>287.388247</td>\n",
       "      <td>116.88</td>\n",
       "      <td>116.9700</td>\n",
       "      <td>116.8100</td>\n",
       "      <td>15147</td>\n",
       "      <td>116.96</td>\n",
       "      <td>5593693</td>\n",
       "      <td>116.879703</td>\n",
       "    </tr>\n",
       "    <tr>\n",
       "      <th>2020-05-06 04:00:00+00:00</th>\n",
       "      <td>284.34</td>\n",
       "      <td>288.4600</td>\n",
       "      <td>283.7800</td>\n",
       "      <td>436221</td>\n",
       "      <td>288.04</td>\n",
       "      <td>74268760</td>\n",
       "      <td>286.080459</td>\n",
       "      <td>116.41</td>\n",
       "      <td>116.7100</td>\n",
       "      <td>116.3000</td>\n",
       "      <td>20234</td>\n",
       "      <td>116.44</td>\n",
       "      <td>7832788</td>\n",
       "      <td>116.423669</td>\n",
       "    </tr>\n",
       "    <tr>\n",
       "      <th>2020-05-07 04:00:00+00:00</th>\n",
       "      <td>287.70</td>\n",
       "      <td>289.7800</td>\n",
       "      <td>287.1300</td>\n",
       "      <td>422689</td>\n",
       "      <td>287.75</td>\n",
       "      <td>75995625</td>\n",
       "      <td>287.986917</td>\n",
       "      <td>116.77</td>\n",
       "      <td>116.7700</td>\n",
       "      <td>116.4200</td>\n",
       "      <td>15964</td>\n",
       "      <td>116.61</td>\n",
       "      <td>3914327</td>\n",
       "      <td>116.646007</td>\n",
       "    </tr>\n",
       "  </tbody>\n",
       "</table>\n",
       "</div>"
      ],
      "text/plain": [
       "                              AGG                                          \\\n",
       "                            close      high       low trade_count    open   \n",
       "timestamp                                                                   \n",
       "2020-05-01 04:00:00+00:00  282.83  290.6572  281.5200      639155  285.31   \n",
       "2020-05-04 04:00:00+00:00  283.59  283.9000  279.1300      460683  280.74   \n",
       "2020-05-05 04:00:00+00:00  286.15  289.2500  283.7134      459766  286.64   \n",
       "2020-05-06 04:00:00+00:00  284.34  288.4600  283.7800      436221  288.04   \n",
       "2020-05-07 04:00:00+00:00  287.70  289.7800  287.1300      422689  287.75   \n",
       "\n",
       "                                                     SPY                      \\\n",
       "                              volume        vwap   close      high       low   \n",
       "timestamp                                                                      \n",
       "2020-05-01 04:00:00+00:00  127002350  284.074074  116.87  117.0998  116.6775   \n",
       "2020-05-04 04:00:00+00:00   81813464  281.785875  116.97  117.0900  116.8700   \n",
       "2020-05-05 04:00:00+00:00   80363726  287.388247  116.88  116.9700  116.8100   \n",
       "2020-05-06 04:00:00+00:00   74268760  286.080459  116.41  116.7100  116.3000   \n",
       "2020-05-07 04:00:00+00:00   75995625  287.986917  116.77  116.7700  116.4200   \n",
       "\n",
       "                                                                    \n",
       "                          trade_count    open   volume        vwap  \n",
       "timestamp                                                           \n",
       "2020-05-01 04:00:00+00:00       24394  116.97  6331654  116.846992  \n",
       "2020-05-04 04:00:00+00:00       15546  116.89  3803239  116.960894  \n",
       "2020-05-05 04:00:00+00:00       15147  116.96  5593693  116.879703  \n",
       "2020-05-06 04:00:00+00:00       20234  116.44  7832788  116.423669  \n",
       "2020-05-07 04:00:00+00:00       15964  116.61  3914327  116.646007  "
      ]
     },
     "execution_count": 16,
     "metadata": {},
     "output_type": "execute_result"
    }
   ],
   "source": [
    " # Format current date as ISO format\n",
    "today = pd.Timestamp('2020-05-01', tz='America/New_York').isoformat()\n",
    "#Set the tickers\n",
    "\n",
    "tickers=[\"AGG\",\"SPY\"]\n",
    "\n",
    "#Set timeframe to \"1Day\" for Alpaca API\n",
    "timeframe=\"1Day\"\n",
    "\n",
    "#Get current closing prices for SPY and AGG\n",
    "df_investments = api.get_bars(\n",
    "    tickers,\n",
    "    timeframe,\n",
    "    start=today\n",
    ").df\n",
    "\n",
    "#Reorganize the dataframe\n",
    "#Separate ticker data\n",
    "SPY=df_investments[df_investments['symbol']=='SPY'].drop('symbol', axis=1)\n",
    "AGG=df_investments[df_investments['symbol']=='AGG'].drop('symbol', axis=1)\n",
    "\n",
    "#Concatenate the ticker dataframes\n",
    "df_investments = pd.concat((SPY,AGG),axis=1,keys=['AGG','SPY'])\n",
    "\n",
    "#Preview DataFrame\n",
    "df_investments.head()"
   ]
  },
  {
   "cell_type": "code",
   "execution_count": 17,
   "id": "bfb6c0fc-92a0-4ad9-ac8c-c375ac28d50d",
   "metadata": {},
   "outputs": [
    {
     "name": "stdout",
     "output_type": "stream",
     "text": [
      "Current AGG closing price: $282.83\n",
      "Current SPY closing price: $116.87\n"
     ]
    }
   ],
   "source": [
    "#Pick AGG and SPY close prices\n",
    "agg_close_price=float(df_investments['AGG']['close'][0])\n",
    "spy_close_price=float(df_investments['SPY']['close'][0])\n",
    "#Print AGG and SPY close prices\n",
    "print(f\"Current AGG closing price: ${agg_close_price}\")\n",
    "print(f\"Current SPY closing price: ${spy_close_price}\")"
   ]
  },
  {
   "cell_type": "code",
   "execution_count": 20,
   "id": "bd956b0c-2bdb-4a30-b805-edc6e71d2549",
   "metadata": {},
   "outputs": [
    {
     "name": "stdout",
     "output_type": "stream",
     "text": [
      "The current value of your 50 SPY shares is $5843.50\n",
      "The current value of your 200 AGG shares is $56566.00\n"
     ]
    }
   ],
   "source": [
    "#Compute the current value of shares\n",
    "my_spy_value= spy_close_price*my_spy\n",
    "my_agg_value=agg_close_price*my_agg\n",
    "#Print current value of shares\n",
    "print(f\"The current value of your {my_spy} SPY shares is ${my_spy_value:0.2f}\")\n",
    "print(f\"The current value of your {my_agg} AGG shares is ${my_agg_value:0.2f}\")"
   ]
  },
  {
   "cell_type": "code",
   "execution_count": null,
   "id": "b51d28d8-e1bb-44e8-9fd6-dd15b48fa361",
   "metadata": {},
   "outputs": [],
   "source": [
    "#Set monthly household income\n",
    "monthly_income=12000\n",
    "#Consolidate financial assets data\n",
    "#YOUR CODE HERE\n",
    "\n",
    "#Create savings DataFrame\n",
    "#YOUR CODE HERE\n",
    "df_savings=pd.DataFrame()\n",
    "#Display savings DataFrame\n",
    "display(df_savings)"
   ]
  },
  {
   "cell_type": "code",
   "execution_count": null,
   "id": "92d61cce-0627-4fa9-8c5d-6072de579291",
   "metadata": {},
   "outputs": [],
   "source": [
    "#Plot savings pie chart\n",
    "#YOUR CODE HERE\n",
    "df_savings.plot.pie(y='amount',title='Savings')"
   ]
  },
  {
   "cell_type": "code",
   "execution_count": null,
   "id": "cfe44696-c9c8-44ac-bcd2-d3912c32ff23",
   "metadata": {},
   "outputs": [],
   "source": [
    "#Set ideal emergency fund\n",
    "emergency_fund=monthly_income*3\n",
    "\n",
    "#Calculate total amount of savings\n",
    "#YOUR CODE HERE\n",
    "\n",
    "#Validate savings health\n",
    "#YOUR CODE HERE\n"
   ]
  },
  {
   "cell_type": "code",
   "execution_count": null,
   "id": "f70a45bf-8c03-4f10-85a7-22d4ce896b26",
   "metadata": {},
   "outputs": [],
   "source": [
    "#Part 2: Retirement Planning\n",
    "#Monte Carlo simulation"
   ]
  },
  {
   "cell_type": "code",
   "execution_count": null,
   "id": "95d1c757-59e9-4717-90b7-77a96291cd31",
   "metadata": {},
   "outputs": [],
   "source": [
    "#Set start and end dates of five years back from today\n",
    "#Sample results may vary from the solution based on the time frame chosen\n",
    "start_date = pd.Timestamp('2016-05-01', tz='America/New_York').isoformat()\n",
    "end_date = pd.Timestamp('2021-05-01', tz='America/New_York').isoformat()"
   ]
  },
  {
   "cell_type": "code",
   "execution_count": null,
   "id": "9bf50619-dd29-439a-841a-f908fdb049ad",
   "metadata": {},
   "outputs": [],
   "source": [
    "# Get 5 years' worth of historical data for SPY and AGG\n",
    "# YOUR CODE HERE!\n",
    "\n",
    "# Reorganize the DataFrame\n",
    "# Separate ticker data\n",
    "# YOUR CODE HERE!\n",
    "\n",
    "\n",
    "# Concatenate the ticker DataFrames\n",
    "# YOUR CODE HERE!\n",
    "df_stock_data=pd.concat()\n",
    "# Display sample data\n",
    "df_stock_data.head() "
   ]
  },
  {
   "cell_type": "code",
   "execution_count": null,
   "id": "7ee4726f-4e62-45a7-bddb-e51966563c60",
   "metadata": {},
   "outputs": [],
   "source": [
    "\n",
    "# Configuring a Monte Carlo simulation to forecast 30 years cumulative returns\n",
    "# YOUR CODE HERE! "
   ]
  },
  {
   "cell_type": "code",
   "execution_count": null,
   "id": "c81138ad-189d-4b68-9624-262451564c46",
   "metadata": {},
   "outputs": [],
   "source": [
    "# Printing the simulation input data\n",
    "# YOUR CODE HERE! "
   ]
  },
  {
   "cell_type": "code",
   "execution_count": null,
   "id": "c5b97c2e-5447-4a1d-916c-1e60078b526a",
   "metadata": {},
   "outputs": [],
   "source": [
    "# Running a Monte Carlo simulation to forecast 30 years cumulative returns\n",
    "# YOUR CODE HERE!"
   ]
  },
  {
   "cell_type": "code",
   "execution_count": null,
   "id": "99cbe262-b9f8-4750-ab7e-5dc1c33cb900",
   "metadata": {},
   "outputs": [],
   "source": [
    "# Plot simulation outcomes\n",
    "# YOUR CODE HERE!"
   ]
  },
  {
   "cell_type": "code",
   "execution_count": null,
   "id": "676ac29d-eb62-47d7-af0e-f92aa9268389",
   "metadata": {},
   "outputs": [],
   "source": [
    "# Plot probability distribution and confidence intervals\n",
    "# YOUR CODE HERE!\n"
   ]
  },
  {
   "cell_type": "code",
   "execution_count": null,
   "id": "ad78e84a-f590-4fe0-9cf1-9eee19539bb0",
   "metadata": {},
   "outputs": [],
   "source": [
    " # Fetch summary statistics from the Monte Carlo simulation results\n",
    "# YOUR CODE HERE!\n",
    "\n",
    "# Print summary statistics\n",
    "# YOUR CODE HERE"
   ]
  },
  {
   "cell_type": "code",
   "execution_count": null,
   "id": "4af8ecd9-5d5e-402c-a528-d668a046188b",
   "metadata": {},
   "outputs": [],
   "source": [
    "# Set initial investment\n",
    "initial_investment = 20000\n",
    "\n",
    "# Use the lower and upper `95%` confidence intervals to calculate the range of the possible outcomes of our $20,000\n",
    "# YOUR CODE HERE!\n",
    "\n",
    "# Print results\n",
    "print(f\"There is a 95% chance that an initial investment of ${initial_investment} in the portfolio\"\n",
    "      f\" over the next 30 years will end within in the range of\"\n",
    "      f\" ${ci_lower} and ${ci_upper}\")"
   ]
  },
  {
   "cell_type": "code",
   "execution_count": null,
   "id": "164839cc-06bc-40ba-b032-81b740e8b8dd",
   "metadata": {},
   "outputs": [],
   "source": [
    "# Set initial investment\n",
    "initial_investment = 20000 * 1.5\n",
    "\n",
    "# Use the lower and upper `95%` confidence intervals to calculate the range of the possible outcomes of our $30,000\n",
    "# YOUR CODE HERE!\n",
    "ci_lower=\n",
    "ci_upper=\n",
    "# Print results\n",
    "print(f\"There is a 95% chance that an initial investment of ${initial_investment} in the portfolio\"\n",
    "      f\" over the next 30 years will end within in the range of\"\n",
    "      f\" ${ci_lower} and ${ci_upper}\")"
   ]
  },
  {
   "cell_type": "code",
   "execution_count": null,
   "id": "f3dd71bf-e1a2-4ffa-b48d-dcfcae65ad87",
   "metadata": {},
   "outputs": [],
   "source": [
    "\n",
    "# Configuring a Monte Carlo simulation to forecast 5 years cumulative returns\n",
    "# YOUR CODE HERE!"
   ]
  },
  {
   "cell_type": "code",
   "execution_count": null,
   "id": "30764e8e-cb4f-416e-ad86-77e80650f396",
   "metadata": {},
   "outputs": [],
   "source": [
    "# Running a Monte Carlo simulation to forecast 5 years cumulative returns\n",
    "# YOUR CODE HERE!\n"
   ]
  },
  {
   "cell_type": "code",
   "execution_count": null,
   "id": "ad1176e8-90d7-474f-a42d-44db4e3e287e",
   "metadata": {},
   "outputs": [],
   "source": [
    " # Plot simulation outcomes\n",
    "# YOUR CODE HERE!"
   ]
  },
  {
   "cell_type": "code",
   "execution_count": null,
   "id": "107cf571-6304-45d2-9198-ff38edfae957",
   "metadata": {},
   "outputs": [],
   "source": [
    "# Plot probability distribution and confidence intervals\n",
    "# YOUR CODE HERE! "
   ]
  },
  {
   "cell_type": "code",
   "execution_count": null,
   "id": "46de134a-f464-4bf1-9203-b24907dd68fa",
   "metadata": {},
   "outputs": [],
   "source": [
    "# Fetch summary statistics from the Monte Carlo simulation results\n",
    "# YOUR CODE HERE!\n",
    "\n",
    "# Print summary statistics\n",
    "# YOUR CODE HERE!"
   ]
  },
  {
   "cell_type": "code",
   "execution_count": null,
   "id": "05e50d95-9d2b-413a-bdf1-bae15cd0d884",
   "metadata": {},
   "outputs": [],
   "source": [
    "# Set initial investment\n",
    "initial_investment=10000\n",
    "\n",
    "# Use the lower and upper `95%` confidence intervals to calculate the range of the possible outcomes of our $60,000\n",
    "# YOUR CODE HERE!\n",
    "\n",
    "# Print results\n",
    "print(f\"There is a 95% chance that an initial investment of ${initial_investment} in the portfolio\"\n",
    "      f\" over the next 5 years will end within in the range of\"\n",
    "      f\" ${ci_lower_five} and ${ci_upper_five}\")"
   ]
  },
  {
   "cell_type": "code",
   "execution_count": null,
   "id": "00fd056f-479a-4f80-b8d2-6ace8e3b9b5a",
   "metadata": {},
   "outputs": [],
   "source": [
    "\n",
    "# Configuring a Monte Carlo simulation to forecast 10 years cumulative returns\n",
    "# YOUR CODE HERE!"
   ]
  },
  {
   "cell_type": "code",
   "execution_count": null,
   "id": "a2aa85bc-0438-463b-9463-9d70b931858c",
   "metadata": {},
   "outputs": [],
   "source": [
    "# Running a Monte Carlo simulation to forecast 10 years cumulative returns\n",
    "# YOUR CODE HERE!"
   ]
  },
  {
   "cell_type": "code",
   "execution_count": null,
   "id": "18a4e7c5-2e67-4bff-af3a-44814805cbed",
   "metadata": {},
   "outputs": [],
   "source": [
    " # Plot simulation outcomes\n",
    "# YOUR CODE HERE!"
   ]
  },
  {
   "cell_type": "code",
   "execution_count": null,
   "id": "a1259c48-68c8-4db0-95e3-0f046f58305d",
   "metadata": {},
   "outputs": [],
   "source": [
    "# Plot probability distribution and confidence intervals\n",
    "# YOUR CODE HERE!"
   ]
  },
  {
   "cell_type": "code",
   "execution_count": null,
   "id": "0cf56247-e714-4f05-a39e-aba9013058b8",
   "metadata": {},
   "outputs": [],
   "source": [
    " # Fetch summary statistics from the Monte Carlo simulation results\n",
    "# YOUR CODE HERE!\n",
    "\n",
    "# Print summary statistics\n",
    "# YOUR CODE HERE!"
   ]
  },
  {
   "cell_type": "code",
   "execution_count": null,
   "id": "99377115-ab9a-4172-947b-7e19500883fa",
   "metadata": {},
   "outputs": [],
   "source": [
    "# Set initial investment\n",
    "# YOUR CODE HERE!\n",
    "\n",
    "# Use the lower and upper `95%` confidence intervals to calculate the range of the possible outcomes of our $60,000\n",
    "# YOUR CODE HERE!\n",
    "\n",
    "# Print results\n",
    "print(f\"There is a 95% chance that an initial investment of ${initial_investment} in the portfolio\"\n",
    "      f\" over the next 10 years will end within in the range of\"\n",
    "      f\" ${ci_lower_ten} and ${ci_upper_ten}\")"
   ]
  }
 ],
 "metadata": {
  "kernelspec": {
   "display_name": "Python 3 (ipykernel)",
   "language": "python",
   "name": "python3"
  },
  "language_info": {
   "codemirror_mode": {
    "name": "ipython",
    "version": 3
   },
   "file_extension": ".py",
   "mimetype": "text/x-python",
   "name": "python",
   "nbconvert_exporter": "python",
   "pygments_lexer": "ipython3",
   "version": "3.11.4"
  }
 },
 "nbformat": 4,
 "nbformat_minor": 5
}
